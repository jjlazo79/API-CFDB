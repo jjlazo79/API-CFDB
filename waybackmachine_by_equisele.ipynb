{
  "nbformat": 4,
  "nbformat_minor": 0,
  "metadata": {
    "colab": {
      "provenance": [],
      "include_colab_link": true
    },
    "kernelspec": {
      "name": "python3",
      "display_name": "Python 3"
    },
    "language_info": {
      "name": "python"
    }
  },
  "cells": [
    {
      "cell_type": "markdown",
      "metadata": {
        "id": "view-in-github",
        "colab_type": "text"
      },
      "source": [
        "<a href=\"https://colab.research.google.com/github/jjlazo79/API-CFDB/blob/master/waybackmachine_by_equisele.ipynb\" target=\"_parent\"><img src=\"https://colab.research.google.com/assets/colab-badge.svg\" alt=\"Open In Colab\"/></a>"
      ]
    },
    {
      "cell_type": "code",
      "execution_count": null,
      "metadata": {
        "id": "J-QRyIAYZxrN"
      },
      "outputs": [],
      "source": [
        "# Credits to @equisele\n",
        "# https://twitter.com/equisele/status/1640441625238183955\n",
        "import os\n",
        "import requests\n",
        "from concurrent.futures import ThreadPoolExecutor\n",
        "from bs4 import BeautifulSoup\n",
        "from google.colab import drive"
      ]
    },
    {
      "cell_type": "code",
      "source": [
        "# Montamos Google Drive. Se solicitan permisos.\n",
        "# Así se guardarán los html en una carpeta de tu cuenta.\n",
        "drive.mount('/content/drive')"
      ],
      "metadata": {
        "id": "8mP1IrngaPii",
        "colab": {
          "base_uri": "https://localhost:8080/"
        },
        "outputId": "61746970-5ea4-4325-a087-0b5d780a0b2d"
      },
      "execution_count": null,
      "outputs": [
        {
          "output_type": "stream",
          "name": "stdout",
          "text": [
            "Mounted at /content/drive\n"
          ]
        }
      ]
    },
    {
      "cell_type": "code",
      "source": [
        "# Introduce un dominio que se encuentre en web.archive.org\n",
        "domain = input(\"Introduce el dominio:\")"
      ],
      "metadata": {
        "id": "REUEFbVYaeA6",
        "colab": {
          "base_uri": "https://localhost:8080/"
        },
        "outputId": "a1d514f8-00f0-45aa-f692-926dc7f9fde7"
      },
      "execution_count": null,
      "outputs": [
        {
          "name": "stdout",
          "output_type": "stream",
          "text": [
            "Introduce el dominio:equisele.com\n"
          ]
        }
      ]
    },
    {
      "cell_type": "code",
      "source": [
        "# Creamos el nombre de la carpeta basada en el nombre de dominio\n",
        "folder_name = domain.replace(\".\", \"_\")\n",
        "# Creamos la ruta completa\n",
        "folder_path = os.path.join('/content/drive/MyDrive/', folder_name)\n",
        "# Iteramos para evitar sobreescribir una carpeta que exista con el mismo nombre\n",
        "# Mientras exista el nombre de la carpeta, itera el bucle hasta que no exista\n",
        "# y crear la carpeta en Google Drive\n",
        "i = 1\n",
        "while os.path.exists(folder_path):\n",
        "    folder_name = f\"{domain.replace('.', '_')}_{i}\"\n",
        "    folder_path = os.path.join('/content/drive/MyDrive/', folder_name)\n",
        "    i += 1\n",
        "os.makedirs(folder_path)"
      ],
      "metadata": {
        "id": "KN6Y2S5zae9M"
      },
      "execution_count": null,
      "outputs": []
    },
    {
      "cell_type": "code",
      "source": [
        "# Define la URL base de la API CDX de Archive.org\n",
        "base_url = \"http://web.archive.org/cdx/search/cdx\"\n",
        "\n",
        "# Define los parámetros de la solicitud GET\n",
        "params = {\n",
        "    'url': f'{domain}/*', # Dominio y asterisco para buscar todas las URL\n",
        "    'output': 'json', # Formato de salida de los resultados\n",
        "    'fl': 'timestamp,mimetype,original', # Campos para incluir en los resultados\n",
        "    'collapse': 'urlkey' # Agrupar lso snapshots por url y elimina así duplicados\n",
        "}\n",
        "\n",
        "# Crea una sesión de requests para reutilizar la misma conexión\n",
        "session = requests.Session()\n",
        "\n",
        "# Realiza la solicitud GET a la API de CDX de Archive.org\n",
        "response = session.get(base_url, params=params)\n",
        "response.raise_for_status()\n",
        "\n",
        "# Obtiene la respuesta en formato JSON\n",
        "response_json = response.json()\n",
        "\n",
        "# Creamos la función que descargará el snapshot y almacenará en una carpeta local\n",
        "def download_file(snapshot):\n",
        "    \n",
        "    timestamp, mime, original_url = snapshot[:3]\n",
        "\n",
        "    if mime.startswith('text/html') and original_url.endswith('html'):\n",
        "\n",
        "        # Muestra en pantalla información del snapshot a descargar\n",
        "        # print(f'{timestamp} {original_url}')\n",
        "\n",
        "        # Define la url del snapshot a descargar\n",
        "        url = f'http://web.archive.org/web/{timestamp}id_/{original_url}'\n",
        "\n",
        "        # Muestra en pantalla información sobre la página a descargar.\n",
        "        print(f'Crawling: {url}')\n",
        "\n",
        "        # Inicializamos el título de la página\n",
        "        title = ''\n",
        "\n",
        "        try:\n",
        "            # Realiza la solicitud GET a la página del snapshot\n",
        "            response = session.get(url, timeout=30) # Timeout a 30s. Si quieres puedes bajarlo o subirlo según tus necesidades\n",
        "            response.raise_for_status()\n",
        "\n",
        "            # Parsea el contenido html\n",
        "            soup = BeautifulSoup(response.text, 'html.parser')\n",
        "\n",
        "            # Extrae el título\n",
        "            title = soup.title.string.strip()\n",
        "\n",
        "        except (requests.exceptions.Timeout, requests.exceptions.RequestException):\n",
        "            pass\n",
        "\n",
        "        # Define el nombre de archivo con el que guardaremos la página html\n",
        "        filename = os.path.join(folder_path, f\"{title.replace('/', '_')}.html\")\n",
        "\n",
        "        # Si existe el nombre de archivo, no lo descargamos de nuevo\n",
        "        if os.path.isfile(filename):\n",
        "            return\n",
        "\n",
        "        # Guardamos el contenido html\n",
        "        with open(filename, 'w') as f:\n",
        "            f.write(response.text)\n",
        "\n",
        "# Utilizamos ThreadPoolExecutor para descargar en paralelo\n",
        "with ThreadPoolExecutor(max_workers=10) as executor:\n",
        "\n",
        "    # Ejecuta la función download_file para cada snapshot encontrado\n",
        "    executor.map(download_file, response_json[1:])  # Se omite el primer elemento de la lista (header)"
      ],
      "metadata": {
        "id": "j7WnVxEJa-2j"
      },
      "execution_count": null,
      "outputs": []
    }
  ]
}